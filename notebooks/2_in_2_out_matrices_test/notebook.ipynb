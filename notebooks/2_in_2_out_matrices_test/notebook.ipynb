{
 "cells": [
  {
   "cell_type": "markdown",
   "metadata": {},
   "source": [
    "## 2x2 Vectors Graph\n",
    "\n",
    "A simple model with two input layers and two output layers."
   ]
  },
  {
   "cell_type": "markdown",
   "metadata": {},
   "source": [
    "## Build and save the graph\n",
    "\n",
    "Ensure you are working in a virtual environment with tensorflow >= 1.9 installed, and in the notebook's directory on the command line:\n",
    "\n",
    "```bash\n",
    "rm -r saved_graph\n",
    "```"
   ]
  },
  {
   "cell_type": "code",
   "execution_count": 2,
   "metadata": {},
   "outputs": [],
   "source": [
    "import tensorflow as tf\n",
    "import os"
   ]
  },
  {
   "cell_type": "code",
   "execution_count": 3,
   "metadata": {},
   "outputs": [
    {
     "name": "stdout",
     "output_type": "stream",
     "text": [
      "WARNING:tensorflow:From /Users/phildow/virtualenv/tf/lib/python3.7/site-packages/tensorflow/python/framework/op_def_library.py:263: colocate_with (from tensorflow.python.framework.ops) is deprecated and will be removed in a future version.\n",
      "Instructions for updating:\n",
      "Colocations handled automatically by placer.\n",
      "WARNING:tensorflow:From <ipython-input-3-0bb65c867212>:32: simple_save (from tensorflow.python.saved_model.simple_save) is deprecated and will be removed in a future version.\n",
      "Instructions for updating:\n",
      "This function will only be available through the v1 compatibility library as tf.compat.v1.saved_model.simple_save.\n",
      "WARNING:tensorflow:From /Users/phildow/virtualenv/tf/lib/python3.7/site-packages/tensorflow/python/saved_model/signature_def_utils_impl.py:205: build_tensor_info (from tensorflow.python.saved_model.utils_impl) is deprecated and will be removed in a future version.\n",
      "Instructions for updating:\n",
      "This function will only be available through the v1 compatibility library as tf.compat.v1.saved_model.utils.build_tensor_info or tf.compat.v1.saved_model.build_tensor_info.\n",
      "INFO:tensorflow:Assets added to graph.\n",
      "INFO:tensorflow:No assets to write.\n",
      "INFO:tensorflow:SavedModel written to: ./saved_graph/saved_model.pb\n",
      "[[5.6e+01 7.2e+01 5.6e+01 7.2e+01]\n",
      " [5.6e+03 7.2e+03 5.6e+03 7.2e+03]\n",
      " [5.6e+05 7.2e+05 5.6e+05 7.2e+05]\n",
      " [5.6e+07 7.2e+07 5.6e+07 7.2e+07]]\n",
      "[[   18.    18.    18.    18.]\n",
      " [  180.   180.   180.   180.]\n",
      " [ 1800.  1800.  1800.  1800.]\n",
      " [18000. 18000. 18000. 18000.]]\n"
     ]
    }
   ],
   "source": [
    "# construct the graph\n",
    "\n",
    "X = tf.placeholder(tf.float32, shape=(4,4), name=\"input1\")\n",
    "Y = tf.placeholder(tf.float32, shape=(4,4), name=\"input2\")\n",
    "\n",
    "W_in = [[1,0,1,0], [0,1,0,1], [1,0,1,0], [0,1,0,1]]\n",
    "B_in = [[0,1,0,1], [1,0,1,0], [0,1,0,1], [1,0,1,0]]\n",
    "\n",
    "W = tf.Variable(W_in, dtype=tf.float32, name=\"W\")\n",
    "B = tf.Variable(B_in, dtype=tf.float32, name=\"B\")\n",
    "\n",
    "XW = tf.matmul(X, tf.transpose(W))\n",
    "YB = tf.matmul(Y, tf.transpose(B))\n",
    "\n",
    "Z = tf.multiply( XW, YB, name=\"output1\" )\n",
    "S = tf.add( XW, YB, name=\"output2\" )\n",
    "\n",
    "# execute the graph\n",
    "\n",
    "init = tf.global_variables_initializer()\n",
    "saver = tf.train.Saver()\n",
    "\n",
    "X_in = [[1,2,3,4], [10,20,30,40], [100,200,300,400], [1000,2000,3000,4000]]\n",
    "Y_in = [[5,6,7,8], [50,60,70,80], [500,600,700,800], [5000,6000,7000,8000]]\n",
    "\n",
    "with tf.Session() as sess:\n",
    "    sess.run(init)\n",
    "    Z_eval, S_eval = sess.run([Z, S], feed_dict={X: X_in, Y: Y_in})\n",
    "    \n",
    "    # saver.save(sess, \"./saved_checkpoints/model.ckpt\")\n",
    "    # tf.train.write_graph(sess.graph, './saved_graph', 'graph.pb', as_text=False)\n",
    "    tf.saved_model.simple_save(sess, \"./saved_graph\", inputs={\"input1\": X, \"input2\": Y}, outputs={\"output1\": Z, \"output2\": S})\n",
    "    \n",
    "    print(Z_eval)\n",
    "    print(S_eval)"
   ]
  },
  {
   "cell_type": "markdown",
   "metadata": {},
   "source": [
    "## Freeze The Graph\n",
    "\n",
    "Having used the `tf.saved_model.simple_save` function, now use the `freeze_graph` cli. Tensorflow also provides a python interface to the freeze_graph function.\n",
    "\n",
    "On the command line:\n",
    "\n",
    "```bash\n",
    "mkdir frozen_graph\n",
    "\n",
    "freeze_graph \\\n",
    "    --input_saved_model_dir=saved_graph \\\n",
    "    --saved_model_tags=serve \\\n",
    "    --output_graph=frozen_graph/frozen_graph.pb \\\n",
    "    --output_node_names=output1,output2\n",
    "```"
   ]
  },
  {
   "cell_type": "markdown",
   "metadata": {},
   "source": [
    "## Convert the Model to a TensorFlow Lite Format\n",
    "\n",
    "Use the `toco` command line utility to convert the frozen graph to a tensorflow lite compatible file:\n",
    "\n",
    "```bash\n",
    "mkdir tflite\n",
    "\n",
    "toco \\\n",
    "\t--graph_def_file=frozen_graph/frozen_graph.pb \\\n",
    "\t--output_file=tflite/model.tflite \\\n",
    "\t--input_arrays=input1,input2 \\\n",
    "\t--input_shapes=4,4:4,4 \\\n",
    "\t--output_arrays=output1,output2\n",
    "```"
   ]
  },
  {
   "cell_type": "code",
   "execution_count": null,
   "metadata": {},
   "outputs": [],
   "source": []
  }
 ],
 "metadata": {
  "kernelspec": {
   "display_name": "Python 3",
   "language": "python",
   "name": "python3"
  },
  "language_info": {
   "codemirror_mode": {
    "name": "ipython",
    "version": 3
   },
   "file_extension": ".py",
   "mimetype": "text/x-python",
   "name": "python",
   "nbconvert_exporter": "python",
   "pygments_lexer": "ipython3",
   "version": "3.7.3"
  }
 },
 "nbformat": 4,
 "nbformat_minor": 2
}
