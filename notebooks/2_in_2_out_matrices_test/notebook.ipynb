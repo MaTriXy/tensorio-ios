{
 "cells": [
  {
   "cell_type": "markdown",
   "metadata": {},
   "source": [
    "## 2x2 Vectors Graph\n",
    "\n",
    "A simple model with two input layers and two output layers."
   ]
  },
  {
   "cell_type": "markdown",
   "metadata": {},
   "source": [
    "## Build and save the graph\n",
    "\n",
    "Ensure you are working in a virtual environment with tensorflow >= 1.9 installed, and in the notebook's directory on the command line:\n",
    "\n",
    "```bash\n",
    "rm -r saved_graph\n",
    "```"
   ]
  },
  {
   "cell_type": "code",
   "execution_count": 1,
   "metadata": {},
   "outputs": [],
   "source": [
    "import tensorflow as tf\n",
    "import os"
   ]
  },
  {
   "cell_type": "code",
   "execution_count": 10,
   "metadata": {},
   "outputs": [
    {
     "name": "stdout",
     "output_type": "stream",
     "text": [
      "INFO:tensorflow:Assets added to graph.\n",
      "INFO:tensorflow:No assets to write.\n",
      "INFO:tensorflow:SavedModel written to: ./saved_graph/saved_model.pb\n",
      "[[5.6e+01 7.2e+01 5.6e+01 7.2e+01]\n",
      " [5.6e+03 7.2e+03 5.6e+03 7.2e+03]\n",
      " [5.6e+05 7.2e+05 5.6e+05 7.2e+05]\n",
      " [5.6e+07 7.2e+07 5.6e+07 7.2e+07]]\n",
      "[[   18.    18.    18.    18.]\n",
      " [  180.   180.   180.   180.]\n",
      " [ 1800.  1800.  1800.  1800.]\n",
      " [18000. 18000. 18000. 18000.]]\n"
     ]
    }
   ],
   "source": [
    "# construct the graph\n",
    "\n",
    "X = tf.placeholder(tf.float32, shape=(4,4), name=\"input_X\")\n",
    "Y = tf.placeholder(tf.float32, shape=(4,4), name=\"input_Y\")\n",
    "\n",
    "W_in = [[1,0,1,0], [0,1,0,1], [1,0,1,0], [0,1,0,1]]\n",
    "B_in = [[0,1,0,1], [1,0,1,0], [0,1,0,1], [1,0,1,0]]\n",
    "\n",
    "W = tf.Variable(W_in, dtype=tf.float32, name=\"W\")\n",
    "B = tf.Variable(B_in, dtype=tf.float32, name=\"B\")\n",
    "\n",
    "XW = tf.matmul(X, tf.transpose(W))\n",
    "YB = tf.matmul(Y, tf.transpose(B))\n",
    "\n",
    "Z = tf.multiply( XW, YB, name=\"output_Z\" )\n",
    "S = tf.add( XW, YB, name=\"output_S\" )\n",
    "\n",
    "# execute the graph\n",
    "\n",
    "init = tf.global_variables_initializer()\n",
    "saver = tf.train.Saver()\n",
    "\n",
    "X_in = [[1,2,3,4], [10,20,30,40], [100,200,300,400], [1000,2000,3000,4000]]\n",
    "Y_in = [[5,6,7,8], [50,60,70,80], [500,600,700,800], [5000,6000,7000,8000]]\n",
    "\n",
    "with tf.Session() as sess:\n",
    "    sess.run(init)\n",
    "    Z_eval, S_eval = sess.run([Z, S], feed_dict={X: X_in, Y: Y_in})\n",
    "    \n",
    "    # saver.save(sess, \"./saved_checkpoints/model.ckpt\")\n",
    "    # tf.train.write_graph(sess.graph, './saved_graph', 'graph.pb', as_text=False)\n",
    "    tf.saved_model.simple_save(sess, \"./saved_graph\", inputs={\"input_X\": X, \"input_Y\": Y}, outputs={\"output_Z\": Z, \"output_S\": S})\n",
    "    \n",
    "    print(Z_eval)\n",
    "    print(S_eval)"
   ]
  },
  {
   "cell_type": "markdown",
   "metadata": {},
   "source": [
    "## Freeze The Graph\n",
    "\n",
    "Having used the `tf.saved_model.simple_save` function, now use the `freeze_graph` cli. Tensorflow also provides a python interface to the freeze_graph function.\n",
    "\n",
    "On the command line:\n",
    "\n",
    "```bash\n",
    "mkdir frozen_graph\n",
    "\n",
    "freeze_graph \\\n",
    "    --input_saved_model_dir=saved_graph \\\n",
    "    --saved_model_tags=serve \\\n",
    "    --output_graph=frozen_graph/frozen_graph.pb \\\n",
    "    --output_node_names=output_Z,output_S\n",
    "```"
   ]
  },
  {
   "cell_type": "markdown",
   "metadata": {},
   "source": [
    "## Convert the Model to a TensorFlow Lite Format\n",
    "\n",
    "Use the `toco` command line utility to convert the frozen graph to a tensorflow lite compatible file:\n",
    "\n",
    "```bash\n",
    "mkdir tflite\n",
    "\n",
    "toco \\\n",
    "\t--graph_def_file=frozen_graph/frozen_graph.pb \\\n",
    "\t--output_file=tflite/model.tflite \\\n",
    "\t--input_arrays=input_X,input_Y \\\n",
    "\t--input_shapes=4,4:4,4 \\\n",
    "\t--output_arrays=output_Z,output_S\n",
    "```"
   ]
  },
  {
   "cell_type": "code",
   "execution_count": null,
   "metadata": {},
   "outputs": [],
   "source": []
  }
 ],
 "metadata": {
  "kernelspec": {
   "display_name": "Python 3",
   "language": "python",
   "name": "python3"
  },
  "language_info": {
   "codemirror_mode": {
    "name": "ipython",
    "version": 3
   },
   "file_extension": ".py",
   "mimetype": "text/x-python",
   "name": "python",
   "nbconvert_exporter": "python",
   "pygments_lexer": "ipython3",
   "version": "3.7.3"
  }
 },
 "nbformat": 4,
 "nbformat_minor": 2
}
