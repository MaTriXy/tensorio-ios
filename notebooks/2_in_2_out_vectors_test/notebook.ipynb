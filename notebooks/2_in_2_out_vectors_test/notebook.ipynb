{
 "cells": [
  {
   "cell_type": "markdown",
   "metadata": {},
   "source": [
    "## 2x2 Vectors Graph\n",
    "\n",
    "A simple model with two input layers and two output layers."
   ]
  },
  {
   "cell_type": "markdown",
   "metadata": {},
   "source": [
    "## Build and save the graph\n",
    "\n",
    "Ensure you are working in a virtual environment with tensorflow >= 1.9 installed, and in the notebook's directory on the command line:\n",
    "\n",
    "```bash\n",
    "rm -r saved_graph\n",
    "```"
   ]
  },
  {
   "cell_type": "code",
   "execution_count": 2,
   "metadata": {},
   "outputs": [],
   "source": [
    "import tensorflow as tf"
   ]
  },
  {
   "cell_type": "code",
   "execution_count": 3,
   "metadata": {},
   "outputs": [
    {
     "name": "stdout",
     "output_type": "stream",
     "text": [
      "[[240.]] [[64.]]\n"
     ]
    }
   ],
   "source": [
    "# construct the graph\n",
    "\n",
    "x = tf.placeholder(tf.float32, shape=(1,4), name=\"input_x\")\n",
    "y = tf.placeholder(tf.float32, shape=(1,4), name=\"input_y\")\n",
    "\n",
    "w = tf.Variable([[1,0,1,0]], dtype=tf.float32, name=\"w\")\n",
    "b = tf.Variable([[0,1,0,1]], dtype=tf.float32, name=\"b\")\n",
    "\n",
    "xw = tf.matmul(x, tf.transpose(w))\n",
    "yb = tf.matmul(y, tf.transpose(b))\n",
    "\n",
    "z = tf.multiply( xw, yb, name=\"output_z\" )\n",
    "s = tf.add( xw, yb, name=\"output_s\" )\n",
    "\n",
    "# execute the graph\n",
    "\n",
    "init = tf.global_variables_initializer()\n",
    "saver = tf.train.Saver()\n",
    "\n",
    "with tf.Session() as sess:\n",
    "    sess.run(init)\n",
    "    z_eval, s_eval = sess.run([z, s], feed_dict={x: [[1,2,3,4]], y: [[10,20,30,40]]})\n",
    "    \n",
    "    # saver.save(sess, \"./saved_checkpoints/model.ckpt\")\n",
    "    # tf.train.write_graph(sess.graph, './saved_graph', 'graph.pb', as_text=False)\n",
    "    tf.saved_model.simple_save(sess, \"./saved_graph\", inputs={\"input_x\": x, \"input_y\": y}, outputs={\"output_z\": z, \"output_s\": s})\n",
    "    \n",
    "    print(z_eval, s_eval)"
   ]
  },
  {
   "cell_type": "markdown",
   "metadata": {},
   "source": [
    "## Freeze The Graph\n",
    "\n",
    "Having used the `tf.saved_model.simple_save` function, now use the `freeze_graph` cli. Tensorflow also provides a python interface to the freeze_graph function.\n",
    "\n",
    "On the command line:\n",
    "\n",
    "```bash\n",
    "mkdir frozen_graph\n",
    "\n",
    "freeze_graph \\\n",
    "    --input_saved_model_dir=saved_graph \\\n",
    "    --saved_model_tags=serve \\\n",
    "    --output_graph=frozen_graph/frozen_graph.pb \\\n",
    "    --output_node_names=output_z,output_s\n",
    "```"
   ]
  },
  {
   "cell_type": "markdown",
   "metadata": {},
   "source": [
    "## Convert the Model to a TensorFlow Lite Format\n",
    "\n",
    "Use the `toco` command line utility to convert the frozen graph to a tensorflow lite compatible file:\n",
    "\n",
    "```bash\n",
    "mkdir tflite\n",
    "\n",
    "toco \\\n",
    "\t--graph_def_file=frozen_graph/frozen_graph.pb \\\n",
    "\t--output_file=tflite/model.tflite \\\n",
    "\t--input_arrays=input_x,input_y \\\n",
    "\t--input_shapes=1,4:1,4 \\\n",
    "\t--output_arrays=output_z,output_s\n",
    "```"
   ]
  },
  {
   "cell_type": "code",
   "execution_count": null,
   "metadata": {},
   "outputs": [],
   "source": []
  }
 ],
 "metadata": {
  "kernelspec": {
   "display_name": "Python 3",
   "language": "python",
   "name": "python3"
  },
  "language_info": {
   "codemirror_mode": {
    "name": "ipython",
    "version": 3
   },
   "file_extension": ".py",
   "mimetype": "text/x-python",
   "name": "python",
   "nbconvert_exporter": "python",
   "pygments_lexer": "ipython3",
   "version": "3.7.3"
  }
 },
 "nbformat": 4,
 "nbformat_minor": 2
}
