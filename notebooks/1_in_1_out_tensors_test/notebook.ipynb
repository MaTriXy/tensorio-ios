{
 "cells": [
  {
   "cell_type": "markdown",
   "metadata": {},
   "source": [
    "## 3D Matrices Graph\n",
    "\n",
    "A more complex model with a 3-Dimensional input and output layer"
   ]
  },
  {
   "cell_type": "markdown",
   "metadata": {},
   "source": [
    "## Build and save the graph\n",
    "\n",
    "Ensure you are working in a virtual environment with tensorflow >= 1.9 installed, and in the notebook's directory on the command line:\n",
    "\n",
    "```bash\n",
    "rm -r saved_graph\n",
    "```"
   ]
  },
  {
   "cell_type": "code",
   "execution_count": 1,
   "metadata": {},
   "outputs": [],
   "source": [
    "import tensorflow as tf"
   ]
  },
  {
   "cell_type": "code",
   "execution_count": 2,
   "metadata": {},
   "outputs": [
    {
     "name": "stdout",
     "output_type": "stream",
     "text": [
      "WARNING:tensorflow:From <ipython-input-2-26433b141fa9>:24: simple_save (from tensorflow.python.saved_model.simple_save) is deprecated and will be removed in a future version.\n",
      "Instructions for updating:\n",
      "This function will only be available through the v1 compatibility library as tf.compat.v1.saved_model.simple_save.\n",
      "WARNING:tensorflow:From /Users/phildow/virtualenv/tf/lib/python3.7/site-packages/tensorflow/python/saved_model/signature_def_utils_impl.py:205: build_tensor_info (from tensorflow.python.saved_model.utils_impl) is deprecated and will be removed in a future version.\n",
      "Instructions for updating:\n",
      "This function will only be available through the v1 compatibility library as tf.compat.v1.saved_model.utils.build_tensor_info or tf.compat.v1.saved_model.build_tensor_info.\n",
      "INFO:tensorflow:Assets added to graph.\n",
      "INFO:tensorflow:No assets to write.\n",
      "INFO:tensorflow:SavedModel written to: ./saved_graph/saved_model.pb\n",
      "[array([[[  2.,   3.,   4.],\n",
      "        [  5.,   6.,   7.],\n",
      "        [  8.,   9.,  10.]],\n",
      "\n",
      "       [[ 12.,  22.,  32.],\n",
      "        [ 42.,  52.,  62.],\n",
      "        [ 72.,  82.,  92.]],\n",
      "\n",
      "       [[103., 203., 303.],\n",
      "        [403., 503., 603.],\n",
      "        [703., 803., 903.]]], dtype=float32)]\n"
     ]
    }
   ],
   "source": [
    "# construct the graph\n",
    "\n",
    "X = tf.placeholder(tf.float32, shape=(3,3,3), name=\"input\")\n",
    "\n",
    "X_0 = tf.add(X[0,:,:], 1)\n",
    "X_1 = tf.add(X[1,:,:], 2)\n",
    "X_2 = tf.add(X[2,:,:], 3)\n",
    "\n",
    "# Z = tf.stack([X_0, X_1, X_2], name=\"output_z\") # tf.stack is not supported by tensorflow lite\n",
    "\n",
    "axis = 0\n",
    "Z = tf.concat([tf.expand_dims(t, axis) for t in [X_0, X_1, X_2]], axis, name=\"output\")\n",
    "\n",
    "init = tf.global_variables_initializer()\n",
    "\n",
    "X_feed = [[[1,  2,  3],  [4,  5,  6],  [7,  8,  9]],\n",
    "          [[10, 20, 30], [40, 50, 60], [70, 80, 90]],\n",
    "          [[100,200,300],[400,500,600],[700,800,900]]]\n",
    "\n",
    "with tf.Session() as sess:\n",
    "    sess.run(init)\n",
    "    z_eval = sess.run([Z], feed_dict={X: X_feed})\n",
    "    \n",
    "    tf.saved_model.simple_save(sess, \"./saved_graph\", inputs={\"input\": X}, outputs={\"output\": Z})\n",
    "    \n",
    "    print(z_eval)"
   ]
  },
  {
   "cell_type": "code",
   "execution_count": 3,
   "metadata": {},
   "outputs": [
    {
     "name": "stdout",
     "output_type": "stream",
     "text": [
      "T_0: \n",
      " [[ 2  3  4]\n",
      " [ 5  6  7]\n",
      " [ 8  9 10]] \n",
      "\n",
      "T_1: \n",
      " [[12 22 32]\n",
      " [42 52 62]\n",
      " [72 82 92]] \n",
      "\n",
      "T_2: \n",
      " [[103 203 303]\n",
      " [403 503 603]\n",
      " [703 803 903]] \n",
      "\n",
      "T_out: \n",
      " [[[  2   3   4]\n",
      "  [  5   6   7]\n",
      "  [  8   9  10]]\n",
      "\n",
      " [[ 12  22  32]\n",
      "  [ 42  52  62]\n",
      "  [ 72  82  92]]\n",
      "\n",
      " [[103 203 303]\n",
      "  [403 503 603]\n",
      "  [703 803 903]]]\n"
     ]
    }
   ],
   "source": [
    "# Some test code\n",
    "\n",
    "sess = tf.InteractiveSession()\n",
    "\n",
    "T = tf.constant([[[1,  2,  3],  [4,  5,  6],  [7,  8,  9]],\n",
    "                 [[10, 20, 30], [40, 50, 60], [70, 80, 90]],\n",
    "                 [[100,200,300],[400,500,600],[700,800,900]]], shape=(3,3,3))\n",
    "\n",
    "T_0 = tf.add(T[0,:,:], 1)\n",
    "T_1 = tf.add(T[1,:,:], 2)\n",
    "T_2 = tf.add(T[2,:,:], 3)\n",
    "\n",
    "# T_out = tf.stack([T_0, T_1, T_2])\n",
    "\n",
    "axis = 0\n",
    "T_out = tf.concat([tf.expand_dims(t, axis) for t in [T_0, T_1, T_2]], axis)\n",
    "\n",
    "print( \"T_0:\", \"\\n\", T_0.eval(), \"\\n\" )\n",
    "print( \"T_1:\", \"\\n\", T_1.eval(), \"\\n\" )\n",
    "print( \"T_2:\", \"\\n\", T_2.eval(), \"\\n\" )\n",
    "print( \"T_out:\", \"\\n\", T_out.eval() )\n",
    "\n",
    "sess.close()"
   ]
  },
  {
   "cell_type": "markdown",
   "metadata": {},
   "source": [
    "## Freeze The Graph\n",
    "\n",
    "Having used the `tf.saved_model.simple_save` function, now use the `freeze_graph` cli. Tensorflow also provides a python interface to the freeze_graph function.\n",
    "\n",
    "On the command line:\n",
    "\n",
    "```bash\n",
    "mkdir frozen_graph\n",
    "\n",
    "freeze_graph \\\n",
    "    --input_saved_model_dir=saved_graph \\\n",
    "    --saved_model_tags=serve \\\n",
    "    --output_graph=frozen_graph/frozen_graph.pb \\\n",
    "    --output_node_names=output\n",
    "```"
   ]
  },
  {
   "cell_type": "markdown",
   "metadata": {},
   "source": [
    "## Convert the Model to a TensorFlow Lite Format\n",
    "\n",
    "Use the `toco` command line utility to convert the frozen graph to a tensorflow lite compatible file:\n",
    "\n",
    "```bash\n",
    "mkdir tflite\n",
    "\n",
    "toco \\\n",
    "\t--graph_def_file=frozen_graph/frozen_graph.pb \\\n",
    "\t--output_file=tflite/model.tflite \\\n",
    "\t--input_arrays=input \\\n",
    "\t--input_shapes=3,3,3 \\\n",
    "\t--output_arrays=output\n",
    "```"
   ]
  },
  {
   "cell_type": "code",
   "execution_count": null,
   "metadata": {},
   "outputs": [],
   "source": []
  }
 ],
 "metadata": {
  "kernelspec": {
   "display_name": "Python 3",
   "language": "python",
   "name": "python3"
  },
  "language_info": {
   "codemirror_mode": {
    "name": "ipython",
    "version": 3
   },
   "file_extension": ".py",
   "mimetype": "text/x-python",
   "name": "python",
   "nbconvert_exporter": "python",
   "pygments_lexer": "ipython3",
   "version": "3.7.3"
  }
 },
 "nbformat": 4,
 "nbformat_minor": 2
}
