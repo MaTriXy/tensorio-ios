{
 "cells": [
  {
   "cell_type": "markdown",
   "metadata": {
    "colab_type": "text",
    "id": "SI5XE49Q4I6y"
   },
   "source": [
    "# Boosted Tree Model\n",
    "\n",
    "This end-to-end walkthrough trains a logistic regression model using the tf.estimator API followed by saving the model and then re-loading it with a different name for predictions. See TensorFlow's example tutorial at:\n",
    "\n",
    "https://www.tensorflow.org/tutorials/estimator/boosted_trees\n",
    "\n",
    "**TF 2.0.x Only**\n",
    "\n",
    "We can only predict real-valued outputs due to version constraints with the on-device build. You must run this notebook with TF 2.0.x."
   ]
  },
  {
   "cell_type": "code",
   "execution_count": 2,
   "metadata": {
    "colab": {},
    "colab_type": "code",
    "id": "EY8EtYBu4M14"
   },
   "outputs": [],
   "source": [
    "import os\n",
    "import shutil\n",
    "import numpy as np\n",
    "import pandas as pd\n",
    "import tensorflow as tf\n",
    "from IPython.display import clear_output"
   ]
  },
  {
   "cell_type": "code",
   "execution_count": 3,
   "metadata": {},
   "outputs": [
    {
     "name": "stdout",
     "output_type": "stream",
     "text": [
      "2.0.3\n"
     ]
    }
   ],
   "source": [
    "print (tf.__version__)"
   ]
  },
  {
   "cell_type": "markdown",
   "metadata": {},
   "source": [
    "# Versions\n",
    "\n",
    "2.0: Does not allow multi-classification on BoostedTrees\n",
    "\n",
    "2.2: Allows mutli-class, but issues training the model with the current setup\n",
    "\n",
    "2.4: Works! However, may NOT work on the TensorIO"
   ]
  },
  {
   "cell_type": "markdown",
   "metadata": {
    "colab_type": "text",
    "id": "_yV-k-ll4TvL"
   },
   "source": [
    "**Load the dataset**\n",
    "\n",
    "We will use the Titanic dataset with the (rather morbid) goal of predicting passenger survival, given characteristics such as gender, age, class, etc."
   ]
  },
  {
   "cell_type": "code",
   "execution_count": 4,
   "metadata": {
    "colab": {},
    "colab_type": "code",
    "id": "aNycS73y4fFW"
   },
   "outputs": [],
   "source": [
    "dftrain = pd.read_csv('https://storage.googleapis.com/tf-datasets/titanic/train.csv')\n",
    "dfeval = pd.read_csv('https://storage.googleapis.com/tf-datasets/titanic/eval.csv')"
   ]
  },
  {
   "cell_type": "code",
   "execution_count": 5,
   "metadata": {},
   "outputs": [],
   "source": [
    "LABEL = \"fare\" # for now let label stay as a string... other issues if we also convert this into class #s\n",
    "\n",
    "for col in dftrain.columns:\n",
    "    if dftrain[col].dtype == \"object\" and col != LABEL:\n",
    "        dftrain[col] = dftrain[col].astype('category').cat.codes\n",
    "        dfeval[col] = dfeval[col].astype('category').cat.codes        "
   ]
  },
  {
   "cell_type": "code",
   "execution_count": 6,
   "metadata": {
    "colab": {
     "base_uri": "https://localhost:8080/",
     "height": 204
    },
    "colab_type": "code",
    "id": "wbQKE3Ed4t_s",
    "outputId": "3a7cbf6b-6507-42da-cbd6-5d7b3ed41511"
   },
   "outputs": [
    {
     "data": {
      "text/html": [
       "<div>\n",
       "<style scoped>\n",
       "    .dataframe tbody tr th:only-of-type {\n",
       "        vertical-align: middle;\n",
       "    }\n",
       "\n",
       "    .dataframe tbody tr th {\n",
       "        vertical-align: top;\n",
       "    }\n",
       "\n",
       "    .dataframe thead th {\n",
       "        text-align: right;\n",
       "    }\n",
       "</style>\n",
       "<table border=\"1\" class=\"dataframe\">\n",
       "  <thead>\n",
       "    <tr style=\"text-align: right;\">\n",
       "      <th></th>\n",
       "      <th>survived</th>\n",
       "      <th>sex</th>\n",
       "      <th>age</th>\n",
       "      <th>n_siblings_spouses</th>\n",
       "      <th>parch</th>\n",
       "      <th>fare</th>\n",
       "      <th>class</th>\n",
       "      <th>deck</th>\n",
       "      <th>embark_town</th>\n",
       "      <th>alone</th>\n",
       "    </tr>\n",
       "  </thead>\n",
       "  <tbody>\n",
       "    <tr>\n",
       "      <th>0</th>\n",
       "      <td>0</td>\n",
       "      <td>1</td>\n",
       "      <td>22.0</td>\n",
       "      <td>1</td>\n",
       "      <td>0</td>\n",
       "      <td>7.2500</td>\n",
       "      <td>2</td>\n",
       "      <td>7</td>\n",
       "      <td>2</td>\n",
       "      <td>0</td>\n",
       "    </tr>\n",
       "    <tr>\n",
       "      <th>1</th>\n",
       "      <td>1</td>\n",
       "      <td>0</td>\n",
       "      <td>38.0</td>\n",
       "      <td>1</td>\n",
       "      <td>0</td>\n",
       "      <td>71.2833</td>\n",
       "      <td>0</td>\n",
       "      <td>2</td>\n",
       "      <td>0</td>\n",
       "      <td>0</td>\n",
       "    </tr>\n",
       "    <tr>\n",
       "      <th>2</th>\n",
       "      <td>1</td>\n",
       "      <td>0</td>\n",
       "      <td>26.0</td>\n",
       "      <td>0</td>\n",
       "      <td>0</td>\n",
       "      <td>7.9250</td>\n",
       "      <td>2</td>\n",
       "      <td>7</td>\n",
       "      <td>2</td>\n",
       "      <td>1</td>\n",
       "    </tr>\n",
       "    <tr>\n",
       "      <th>3</th>\n",
       "      <td>1</td>\n",
       "      <td>0</td>\n",
       "      <td>35.0</td>\n",
       "      <td>1</td>\n",
       "      <td>0</td>\n",
       "      <td>53.1000</td>\n",
       "      <td>0</td>\n",
       "      <td>2</td>\n",
       "      <td>2</td>\n",
       "      <td>0</td>\n",
       "    </tr>\n",
       "    <tr>\n",
       "      <th>4</th>\n",
       "      <td>0</td>\n",
       "      <td>1</td>\n",
       "      <td>28.0</td>\n",
       "      <td>0</td>\n",
       "      <td>0</td>\n",
       "      <td>8.4583</td>\n",
       "      <td>2</td>\n",
       "      <td>7</td>\n",
       "      <td>1</td>\n",
       "      <td>1</td>\n",
       "    </tr>\n",
       "  </tbody>\n",
       "</table>\n",
       "</div>"
      ],
      "text/plain": [
       "   survived  sex   age  n_siblings_spouses  parch     fare  class  deck  \\\n",
       "0         0    1  22.0                   1      0   7.2500      2     7   \n",
       "1         1    0  38.0                   1      0  71.2833      0     2   \n",
       "2         1    0  26.0                   0      0   7.9250      2     7   \n",
       "3         1    0  35.0                   1      0  53.1000      0     2   \n",
       "4         0    1  28.0                   0      0   8.4583      2     7   \n",
       "\n",
       "   embark_town  alone  \n",
       "0            2      0  \n",
       "1            0      0  \n",
       "2            2      1  \n",
       "3            2      0  \n",
       "4            1      1  "
      ]
     },
     "execution_count": 6,
     "metadata": {},
     "output_type": "execute_result"
    }
   ],
   "source": [
    "dftrain.head()"
   ]
  },
  {
   "cell_type": "code",
   "execution_count": 7,
   "metadata": {},
   "outputs": [
    {
     "data": {
      "text/html": [
       "<div>\n",
       "<style scoped>\n",
       "    .dataframe tbody tr th:only-of-type {\n",
       "        vertical-align: middle;\n",
       "    }\n",
       "\n",
       "    .dataframe tbody tr th {\n",
       "        vertical-align: top;\n",
       "    }\n",
       "\n",
       "    .dataframe thead th {\n",
       "        text-align: right;\n",
       "    }\n",
       "</style>\n",
       "<table border=\"1\" class=\"dataframe\">\n",
       "  <thead>\n",
       "    <tr style=\"text-align: right;\">\n",
       "      <th></th>\n",
       "      <th>survived</th>\n",
       "      <th>sex</th>\n",
       "      <th>age</th>\n",
       "      <th>n_siblings_spouses</th>\n",
       "      <th>parch</th>\n",
       "      <th>fare</th>\n",
       "      <th>class</th>\n",
       "      <th>deck</th>\n",
       "      <th>embark_town</th>\n",
       "      <th>alone</th>\n",
       "    </tr>\n",
       "  </thead>\n",
       "  <tbody>\n",
       "    <tr>\n",
       "      <th>0</th>\n",
       "      <td>0</td>\n",
       "      <td>1</td>\n",
       "      <td>35.0</td>\n",
       "      <td>0</td>\n",
       "      <td>0</td>\n",
       "      <td>8.0500</td>\n",
       "      <td>2</td>\n",
       "      <td>6</td>\n",
       "      <td>2</td>\n",
       "      <td>1</td>\n",
       "    </tr>\n",
       "    <tr>\n",
       "      <th>1</th>\n",
       "      <td>0</td>\n",
       "      <td>1</td>\n",
       "      <td>54.0</td>\n",
       "      <td>0</td>\n",
       "      <td>0</td>\n",
       "      <td>51.8625</td>\n",
       "      <td>0</td>\n",
       "      <td>4</td>\n",
       "      <td>2</td>\n",
       "      <td>1</td>\n",
       "    </tr>\n",
       "    <tr>\n",
       "      <th>2</th>\n",
       "      <td>1</td>\n",
       "      <td>0</td>\n",
       "      <td>58.0</td>\n",
       "      <td>0</td>\n",
       "      <td>0</td>\n",
       "      <td>26.5500</td>\n",
       "      <td>0</td>\n",
       "      <td>2</td>\n",
       "      <td>2</td>\n",
       "      <td>1</td>\n",
       "    </tr>\n",
       "    <tr>\n",
       "      <th>3</th>\n",
       "      <td>1</td>\n",
       "      <td>0</td>\n",
       "      <td>55.0</td>\n",
       "      <td>0</td>\n",
       "      <td>0</td>\n",
       "      <td>16.0000</td>\n",
       "      <td>1</td>\n",
       "      <td>6</td>\n",
       "      <td>2</td>\n",
       "      <td>1</td>\n",
       "    </tr>\n",
       "    <tr>\n",
       "      <th>4</th>\n",
       "      <td>1</td>\n",
       "      <td>1</td>\n",
       "      <td>34.0</td>\n",
       "      <td>0</td>\n",
       "      <td>0</td>\n",
       "      <td>13.0000</td>\n",
       "      <td>1</td>\n",
       "      <td>3</td>\n",
       "      <td>2</td>\n",
       "      <td>1</td>\n",
       "    </tr>\n",
       "  </tbody>\n",
       "</table>\n",
       "</div>"
      ],
      "text/plain": [
       "   survived  sex   age  n_siblings_spouses  parch     fare  class  deck  \\\n",
       "0         0    1  35.0                   0      0   8.0500      2     6   \n",
       "1         0    1  54.0                   0      0  51.8625      0     4   \n",
       "2         1    0  58.0                   0      0  26.5500      0     2   \n",
       "3         1    0  55.0                   0      0  16.0000      1     6   \n",
       "4         1    1  34.0                   0      0  13.0000      1     3   \n",
       "\n",
       "   embark_town  alone  \n",
       "0            2      1  \n",
       "1            2      1  \n",
       "2            2      1  \n",
       "3            2      1  \n",
       "4            2      1  "
      ]
     },
     "execution_count": 7,
     "metadata": {},
     "output_type": "execute_result"
    }
   ],
   "source": [
    "dfeval.head()"
   ]
  },
  {
   "cell_type": "code",
   "execution_count": 8,
   "metadata": {},
   "outputs": [
    {
     "data": {
      "text/plain": [
       "survived                int64\n",
       "sex                      int8\n",
       "age                   float64\n",
       "n_siblings_spouses      int64\n",
       "parch                   int64\n",
       "fare                  float64\n",
       "class                    int8\n",
       "deck                     int8\n",
       "embark_town              int8\n",
       "alone                    int8\n",
       "dtype: object"
      ]
     },
     "execution_count": 8,
     "metadata": {},
     "output_type": "execute_result"
    }
   ],
   "source": [
    "dftrain.dtypes"
   ]
  },
  {
   "cell_type": "code",
   "execution_count": 9,
   "metadata": {},
   "outputs": [
    {
     "name": "stdout",
     "output_type": "stream",
     "text": [
      "0       7.2500\n",
      "1      71.2833\n",
      "2       7.9250\n",
      "3      53.1000\n",
      "4       8.4583\n",
      "        ...   \n",
      "622    10.5000\n",
      "623     7.0500\n",
      "624    30.0000\n",
      "625    23.4500\n",
      "626     7.7500\n",
      "Name: fare, Length: 627, dtype: float64\n"
     ]
    }
   ],
   "source": [
    "print(dftrain[LABEL])"
   ]
  },
  {
   "cell_type": "markdown",
   "metadata": {
    "colab_type": "text",
    "id": "YfP1m8-H46Cs"
   },
   "source": [
    "**Feature Engineering for the Model**\n",
    "\n",
    "Estimators use a system called feature columns to describe how the model should interpret each of the raw input features. An Estimator expects a vector of numeric inputs, and feature columns describe how the model should convert each feature."
   ]
  },
  {
   "cell_type": "code",
   "execution_count": 10,
   "metadata": {
    "colab": {},
    "colab_type": "code",
    "id": "1z4_ncDC5DYd"
   },
   "outputs": [],
   "source": [
    "feature_columns = []\n",
    "NUMERIC_COLUMNS = ['age']\n",
    "CATEGORICAL_COLUMNS = ['sex', 'n_siblings_spouses', 'parch', 'class', 'deck', \n",
    "                       'survived', 'alone', 'embark_town']\n",
    "\n",
    "def one_hot_cat_column(feature_name, vocab):\n",
    "    return tf.feature_column.indicator_column(tf.feature_column.categorical_column_with_vocabulary_list(feature_name,vocab))\n",
    "\n",
    "for feature_name in CATEGORICAL_COLUMNS:\n",
    "    vocabulary = dftrain[feature_name].unique()\n",
    "#     feature_columns.append(tf.feature_column.categorical_column_with_vocabulary_list(feature_name, vocabulary))\n",
    "    feature_columns.append(one_hot_cat_column(feature_name, vocabulary))\n",
    "\n",
    "for feature_name in NUMERIC_COLUMNS:\n",
    "    feature_columns.append(tf.feature_column.numeric_column(feature_name, dtype=tf.float32))"
   ]
  },
  {
   "cell_type": "code",
   "execution_count": 11,
   "metadata": {},
   "outputs": [
    {
     "name": "stdout",
     "output_type": "stream",
     "text": [
      "Feature value: \"2\"\n",
      "WARNING:tensorflow:From /Users/phildow/venvs/tf2.0/lib/python3.7/site-packages/tensorflow_core/python/feature_column/feature_column_v2.py:4276: IndicatorColumn._variable_shape (from tensorflow.python.feature_column.feature_column_v2) is deprecated and will be removed in a future version.\n",
      "Instructions for updating:\n",
      "The old _FeatureColumn APIs are being deprecated. Please use the new FeatureColumn APIs instead.\n",
      "WARNING:tensorflow:From /Users/phildow/venvs/tf2.0/lib/python3.7/site-packages/tensorflow_core/python/feature_column/feature_column_v2.py:4331: VocabularyListCategoricalColumn._num_buckets (from tensorflow.python.feature_column.feature_column_v2) is deprecated and will be removed in a future version.\n",
      "Instructions for updating:\n",
      "The old _FeatureColumn APIs are being deprecated. Please use the new FeatureColumn APIs instead.\n",
      "One-hot encoded:  [[0. 0. 1.]]\n"
     ]
    }
   ],
   "source": [
    "# test encoding\n",
    "example = dict(dftrain.head(1))\n",
    "class_fc = tf.feature_column.indicator_column(tf.feature_column.categorical_column_with_vocabulary_list('class', [0, 1, 2]))\n",
    "print('Feature value: \"{}\"'.format(example['class'].iloc[0]))\n",
    "print('One-hot encoded: ', tf.keras.layers.DenseFeatures([class_fc])(example).numpy())"
   ]
  },
  {
   "cell_type": "markdown",
   "metadata": {
    "colab_type": "text",
    "id": "_RrIpr045Npo"
   },
   "source": [
    "The below two functions are responsible for feeding the data to the model for training and evaluation respectively."
   ]
  },
  {
   "cell_type": "code",
   "execution_count": 12,
   "metadata": {
    "colab": {},
    "colab_type": "code",
    "id": "4Z5v5EJH5QnX"
   },
   "outputs": [],
   "source": [
    "def make_train_input_fn(df, num_epochs):\n",
    "    return tf.compat.v1.estimator.inputs.pandas_input_fn(\n",
    "        x = df,\n",
    "        y = df[LABEL],\n",
    "        batch_size = 128,\n",
    "        num_epochs = num_epochs,\n",
    "        shuffle = True,\n",
    "        queue_capacity = 1000\n",
    "    )"
   ]
  },
  {
   "cell_type": "code",
   "execution_count": 13,
   "metadata": {
    "colab": {},
    "colab_type": "code",
    "id": "sSeSMUp95SQl"
   },
   "outputs": [],
   "source": [
    "def make_prediction_input_fn(df):\n",
    "    return tf.compat.v1.estimator.inputs.pandas_input_fn(\n",
    "        x = df,\n",
    "        y = None,\n",
    "        batch_size = 128,\n",
    "        shuffle = False,\n",
    "        queue_capacity = 1000\n",
    "    )"
   ]
  },
  {
   "cell_type": "markdown",
   "metadata": {
    "colab_type": "text",
    "id": "YLBoIy2Q6Lam"
   },
   "source": [
    "## Train the model"
   ]
  },
  {
   "cell_type": "code",
   "execution_count": 14,
   "metadata": {
    "colab": {
     "base_uri": "https://localhost:8080/",
     "height": 938
    },
    "colab_type": "code",
    "id": "FvD3QwsY5gpg",
    "outputId": "31cc7816-46c1-4413-98b1-7ca29a38924b"
   },
   "outputs": [
    {
     "name": "stdout",
     "output_type": "stream",
     "text": [
      "INFO:tensorflow:Using default config.\n",
      "WARNING:tensorflow:Using temporary folder as model directory: /var/folders/3k/znx7sn113fg2z9z5_0mzfkn80000gn/T/tmp105zuege\n",
      "INFO:tensorflow:Using config: {'_model_dir': '/var/folders/3k/znx7sn113fg2z9z5_0mzfkn80000gn/T/tmp105zuege', '_tf_random_seed': None, '_save_summary_steps': 100, '_save_checkpoints_steps': None, '_save_checkpoints_secs': 600, '_session_config': allow_soft_placement: true\n",
      "graph_options {\n",
      "  rewrite_options {\n",
      "    meta_optimizer_iterations: ONE\n",
      "  }\n",
      "}\n",
      ", '_keep_checkpoint_max': 5, '_keep_checkpoint_every_n_hours': 10000, '_log_step_count_steps': 100, '_train_distribute': None, '_device_fn': None, '_protocol': None, '_eval_distribute': None, '_experimental_distribute': None, '_experimental_max_worker_delay_secs': None, '_session_creation_timeout_secs': 7200, '_service': None, '_cluster_spec': <tensorflow.python.training.server_lib.ClusterSpec object at 0x1372f4850>, '_task_type': 'worker', '_task_id': 0, '_global_id_in_cluster': 0, '_master': '', '_evaluation_master': '', '_is_chief': True, '_num_ps_replicas': 0, '_num_worker_replicas': 1}\n",
      "WARNING:tensorflow:From /Users/phildow/venvs/tf2.0/lib/python3.7/site-packages/tensorflow_core/python/ops/resource_variable_ops.py:1630: calling BaseResourceVariable.__init__ (from tensorflow.python.ops.resource_variable_ops) with constraint is deprecated and will be removed in a future version.\n",
      "Instructions for updating:\n",
      "If using Keras pass *_constraint arguments to layers.\n",
      "WARNING:tensorflow:From /Users/phildow/venvs/tf2.0/lib/python3.7/site-packages/tensorflow_core/python/training/training_util.py:236: Variable.initialized_value (from tensorflow.python.ops.variables) is deprecated and will be removed in a future version.\n",
      "Instructions for updating:\n",
      "Use Variable.read_value. Variables in 2.X are initialized automatically both in eager and graph (inside tf.defun) contexts.\n",
      "WARNING:tensorflow:From /Users/phildow/venvs/tf2.0/lib/python3.7/site-packages/tensorflow_estimator/python/estimator/inputs/queues/feeding_queue_runner.py:62: QueueRunner.__init__ (from tensorflow.python.training.queue_runner_impl) is deprecated and will be removed in a future version.\n",
      "Instructions for updating:\n",
      "To construct input pipelines, use the `tf.data` module.\n",
      "WARNING:tensorflow:From /Users/phildow/venvs/tf2.0/lib/python3.7/site-packages/tensorflow_estimator/python/estimator/inputs/queues/feeding_functions.py:500: add_queue_runner (from tensorflow.python.training.queue_runner_impl) is deprecated and will be removed in a future version.\n",
      "Instructions for updating:\n",
      "To construct input pipelines, use the `tf.data` module.\n",
      "INFO:tensorflow:Calling model_fn.\n",
      "WARNING:tensorflow:From /Users/phildow/venvs/tf2.0/lib/python3.7/site-packages/tensorflow_estimator/python/estimator/canned/boosted_trees.py:214: to_int32 (from tensorflow.python.ops.math_ops) is deprecated and will be removed in a future version.\n",
      "Instructions for updating:\n",
      "Use `tf.cast` instead.\n",
      "WARNING:tensorflow:From /Users/phildow/venvs/tf2.0/lib/python3.7/site-packages/tensorflow_estimator/python/estimator/canned/head.py:437: to_float (from tensorflow.python.ops.math_ops) is deprecated and will be removed in a future version.\n",
      "Instructions for updating:\n",
      "Use `tf.cast` instead.\n",
      "INFO:tensorflow:Done calling model_fn.\n",
      "INFO:tensorflow:Create CheckpointSaverHook.\n",
      "WARNING:tensorflow:Issue encountered when serializing resources.\n",
      "Type is unsupported, or the types of the items don't match field type in CollectionDef. Note this is a warning and probably safe to ignore.\n",
      "'_Resource' object has no attribute 'name'\n",
      "INFO:tensorflow:Graph was finalized.\n",
      "INFO:tensorflow:Running local_init_op.\n",
      "INFO:tensorflow:Done running local_init_op.\n",
      "WARNING:tensorflow:From /Users/phildow/venvs/tf2.0/lib/python3.7/site-packages/tensorflow_core/python/training/monitored_session.py:882: start_queue_runners (from tensorflow.python.training.queue_runner_impl) is deprecated and will be removed in a future version.\n",
      "Instructions for updating:\n",
      "To construct input pipelines, use the `tf.data` module.\n",
      "WARNING:tensorflow:Issue encountered when serializing resources.\n",
      "Type is unsupported, or the types of the items don't match field type in CollectionDef. Note this is a warning and probably safe to ignore.\n",
      "'_Resource' object has no attribute 'name'\n",
      "INFO:tensorflow:Saving checkpoints for 0 into /var/folders/3k/znx7sn113fg2z9z5_0mzfkn80000gn/T/tmp105zuege/model.ckpt.\n",
      "WARNING:tensorflow:Issue encountered when serializing resources.\n",
      "Type is unsupported, or the types of the items don't match field type in CollectionDef. Note this is a warning and probably safe to ignore.\n",
      "'_Resource' object has no attribute 'name'\n",
      "INFO:tensorflow:loss = 6391.2993, step = 0\n",
      "WARNING:tensorflow:It seems that global step (tf.train.get_global_step) has not been increased. Current value (could be stable): 0 vs previous value: 0. You could increase the global step by passing tf.train.get_global_step() to Optimizer.apply_gradients or Optimizer.minimize.\n",
      "INFO:tensorflow:Saving checkpoints for 48 into /var/folders/3k/znx7sn113fg2z9z5_0mzfkn80000gn/T/tmp105zuege/model.ckpt.\n",
      "WARNING:tensorflow:Issue encountered when serializing resources.\n",
      "Type is unsupported, or the types of the items don't match field type in CollectionDef. Note this is a warning and probably safe to ignore.\n",
      "'_Resource' object has no attribute 'name'\n",
      "INFO:tensorflow:Loss for final step: 356.82602.\n"
     ]
    },
    {
     "data": {
      "text/plain": [
       "(<tensorflow_estimator.python.estimator.canned.boosted_trees.BoostedTreesRegressor at 0x1371c7310>,)"
      ]
     },
     "execution_count": 14,
     "metadata": {},
     "output_type": "execute_result"
    }
   ],
   "source": [
    "# Instantiate the pre-made estimator\n",
    "n_batches = 1\n",
    "model = tf.estimator.BoostedTreesRegressor(feature_columns, \n",
    "                                            n_batches_per_layer=n_batches,\n",
    "                                            pruning_mode='none')\n",
    "\n",
    "# Train the model\n",
    "model.train(make_train_input_fn(dftrain, num_epochs=10)), # max_steps=100)"
   ]
  },
  {
   "cell_type": "markdown",
   "metadata": {
    "colab_type": "text",
    "id": "KGcC2syn6bS7"
   },
   "source": [
    "**Predict on evaluation dataset**"
   ]
  },
  {
   "cell_type": "code",
   "execution_count": 15,
   "metadata": {
    "colab": {
     "base_uri": "https://localhost:8080/",
     "height": 241
    },
    "colab_type": "code",
    "id": "Smn2qGZa5mGg",
    "outputId": "ab230488-b1c5-4a57-d42f-d6e2693a18c8"
   },
   "outputs": [
    {
     "name": "stdout",
     "output_type": "stream",
     "text": [
      "INFO:tensorflow:Calling model_fn.\n",
      "INFO:tensorflow:Done calling model_fn.\n",
      "INFO:tensorflow:Graph was finalized.\n",
      "INFO:tensorflow:Restoring parameters from /var/folders/3k/znx7sn113fg2z9z5_0mzfkn80000gn/T/tmp105zuege/model.ckpt-48\n",
      "INFO:tensorflow:Running local_init_op.\n",
      "INFO:tensorflow:Done running local_init_op.\n"
     ]
    }
   ],
   "source": [
    "predDicts = list(model.predict(make_prediction_input_fn(dfeval)))"
   ]
  },
  {
   "cell_type": "markdown",
   "metadata": {
    "colab_type": "text",
    "id": "2gzMYKrC63Er"
   },
   "source": [
    "Let's see first 10 predictions"
   ]
  },
  {
   "cell_type": "code",
   "execution_count": 16,
   "metadata": {
    "colab": {
     "base_uri": "https://localhost:8080/",
     "height": 34
    },
    "colab_type": "code",
    "id": "hGN6U7XL67Vx",
    "outputId": "7e39ccc1-d517-4064-d65b-8606759a651b"
   },
   "outputs": [
    {
     "data": {
      "text/plain": [
       "[10.168745,\n",
       " 37.892624,\n",
       " 92.88942,\n",
       " 10.930451,\n",
       " 11.129454,\n",
       " 10.585346,\n",
       " 32.096348,\n",
       " 9.020223,\n",
       " 24.899055,\n",
       " 9.352524]"
      ]
     },
     "execution_count": 16,
     "metadata": {},
     "output_type": "execute_result"
    }
   ],
   "source": [
    "preds = []\n",
    "for pred in predDicts[:10]:\n",
    "    # preds.append(np.argmax(pred[\"probabilities\"]))\n",
    "    preds.extend(pred[\"predictions\"])\n",
    "preds"
   ]
  },
  {
   "cell_type": "code",
   "execution_count": 17,
   "metadata": {},
   "outputs": [
    {
     "name": "stdout",
     "output_type": "stream",
     "text": [
      "{'predictions': array([10.168745], dtype=float32)}\n"
     ]
    }
   ],
   "source": [
    "print (predDicts[0])"
   ]
  },
  {
   "cell_type": "markdown",
   "metadata": {
    "colab_type": "text",
    "id": "ty9Etsoc7MoS"
   },
   "source": [
    "**Save the model**"
   ]
  },
  {
   "cell_type": "code",
   "execution_count": 19,
   "metadata": {},
   "outputs": [],
   "source": [
    "# tf.compat.v1.disable_eager_execution()\n",
    "\n",
    "SHAPE = [None]\n",
    "\n",
    "def serving_input_receiver_fn():\n",
    "    x = {\n",
    "        'survived': tf.compat.v1.placeholder(tf.int64, shape=SHAPE, name='survived'),\n",
    "        'sex': tf.compat.v1.placeholder(tf.int64, shape=SHAPE, name='sex'),\n",
    "        'age': tf.compat.v1.placeholder(tf.float32, shape=SHAPE, name='age'),\n",
    "        'n_siblings_spouses': tf.compat.v1.placeholder(tf.int64, shape=SHAPE, name='n_siblings_spouses'),\n",
    "        'parch': tf.compat.v1.placeholder(tf.int64, shape=SHAPE, name='parch'),\n",
    "        'class': tf.compat.v1.placeholder(tf.int64, shape=SHAPE, name='class'),\n",
    "        'deck': tf.compat.v1.placeholder(tf.int64, shape=SHAPE, name='deck'),\n",
    "        'embark_town': tf.compat.v1.placeholder(tf.int64, shape=SHAPE, name='embark_town'),\n",
    "        'alone': tf.compat.v1.placeholder(tf.int64, shape=SHAPE, name='alone')\n",
    "    }\n",
    "    \n",
    "    return tf.estimator.export.ServingInputReceiver(x, x)\n",
    "\n",
    "inputFn = serving_input_receiver_fn"
   ]
  },
  {
   "cell_type": "code",
   "execution_count": 20,
   "metadata": {
    "colab": {
     "base_uri": "https://localhost:8080/",
     "height": 275
    },
    "colab_type": "code",
    "id": "_tItzbIh7OqM",
    "outputId": "bebdcfd2-430d-4bf2-a838-10f3fc6f32ea"
   },
   "outputs": [
    {
     "name": "stdout",
     "output_type": "stream",
     "text": [
      "INFO:tensorflow:Calling model_fn.\n",
      "INFO:tensorflow:Done calling model_fn.\n",
      "WARNING:tensorflow:From /Users/phildow/venvs/tf2.0/lib/python3.7/site-packages/tensorflow_core/python/saved_model/signature_def_utils_impl.py:201: build_tensor_info (from tensorflow.python.saved_model.utils_impl) is deprecated and will be removed in a future version.\n",
      "Instructions for updating:\n",
      "This function will only be available through the v1 compatibility library as tf.compat.v1.saved_model.utils.build_tensor_info or tf.compat.v1.saved_model.build_tensor_info.\n",
      "INFO:tensorflow:Signatures INCLUDED in export for Classify: None\n",
      "INFO:tensorflow:Signatures INCLUDED in export for Regress: None\n",
      "INFO:tensorflow:Signatures INCLUDED in export for Predict: ['predict']\n",
      "INFO:tensorflow:Signatures INCLUDED in export for Train: None\n",
      "INFO:tensorflow:Signatures INCLUDED in export for Eval: None\n",
      "INFO:tensorflow:Signatures EXCLUDED from export because they cannot be be served via TensorFlow Serving APIs:\n",
      "INFO:tensorflow:'serving_default' : Regression input must be a single string Tensor; got {'survived': <tf.Tensor 'survived:0' shape=(None,) dtype=int64>, 'sex': <tf.Tensor 'sex:0' shape=(None,) dtype=int64>, 'age': <tf.Tensor 'age:0' shape=(None,) dtype=float32>, 'n_siblings_spouses': <tf.Tensor 'n_siblings_spouses:0' shape=(None,) dtype=int64>, 'parch': <tf.Tensor 'parch:0' shape=(None,) dtype=int64>, 'class': <tf.Tensor 'class:0' shape=(None,) dtype=int64>, 'deck': <tf.Tensor 'deck:0' shape=(None,) dtype=int64>, 'embark_town': <tf.Tensor 'embark_town:0' shape=(None,) dtype=int64>, 'alone': <tf.Tensor 'alone:0' shape=(None,) dtype=int64>}\n",
      "INFO:tensorflow:'regression' : Regression input must be a single string Tensor; got {'survived': <tf.Tensor 'survived:0' shape=(None,) dtype=int64>, 'sex': <tf.Tensor 'sex:0' shape=(None,) dtype=int64>, 'age': <tf.Tensor 'age:0' shape=(None,) dtype=float32>, 'n_siblings_spouses': <tf.Tensor 'n_siblings_spouses:0' shape=(None,) dtype=int64>, 'parch': <tf.Tensor 'parch:0' shape=(None,) dtype=int64>, 'class': <tf.Tensor 'class:0' shape=(None,) dtype=int64>, 'deck': <tf.Tensor 'deck:0' shape=(None,) dtype=int64>, 'embark_town': <tf.Tensor 'embark_town:0' shape=(None,) dtype=int64>, 'alone': <tf.Tensor 'alone:0' shape=(None,) dtype=int64>}\n",
      "WARNING:tensorflow:Export includes no default signature!\n",
      "INFO:tensorflow:Restoring parameters from /var/folders/3k/znx7sn113fg2z9z5_0mzfkn80000gn/T/tmp105zuege/model.ckpt-48\n",
      "INFO:tensorflow:Assets added to graph.\n",
      "INFO:tensorflow:No assets to write.\n",
      "WARNING:tensorflow:Issue encountered when serializing resources.\n",
      "Type is unsupported, or the types of the items don't match field type in CollectionDef. Note this is a warning and probably safe to ignore.\n",
      "'_Resource' object has no attribute 'name'\n",
      "INFO:tensorflow:SavedModel written to: saved_graph/temp-b'1612983436'/saved_model.pb\n"
     ]
    }
   ],
   "source": [
    "OUTDIR = 'saved_graph'\n",
    "shutil.rmtree(OUTDIR, ignore_errors = True) # start fresh each time\n",
    "modelPath = model.export_saved_model(OUTDIR, inputFn)"
   ]
  },
  {
   "cell_type": "markdown",
   "metadata": {
    "colab_type": "text",
    "id": "2QSzHbfK7RZw"
   },
   "source": [
    "## Test Prediction\n",
    "\n",
    "We will use different model name just to be sure that we are not using the existing model."
   ]
  },
  {
   "cell_type": "code",
   "execution_count": 23,
   "metadata": {
    "colab": {},
    "colab_type": "code",
    "id": "B8mwsAJQ8v-a"
   },
   "outputs": [],
   "source": [
    "savedModelPath = modelPath\n",
    "importedModel = tf.saved_model.load(savedModelPath)"
   ]
  },
  {
   "cell_type": "code",
   "execution_count": 24,
   "metadata": {},
   "outputs": [
    {
     "data": {
      "text/plain": [
       "<tensorflow.python.eager.wrap_function.WrappedFunction at 0x137a2b850>"
      ]
     },
     "execution_count": 24,
     "metadata": {},
     "output_type": "execute_result"
    }
   ],
   "source": [
    "importedModel.signatures['predict']"
   ]
  },
  {
   "cell_type": "markdown",
   "metadata": {
    "colab_type": "text",
    "id": "1-Xoqhc584ib"
   },
   "source": [
    "**Predict using imported model**"
   ]
  },
  {
   "cell_type": "markdown",
   "metadata": {
    "colab_type": "text",
    "id": "r4BWYyev--Go"
   },
   "source": [
    "To predict on an unseen data set using loaded estimator model, we will have to follow following small steps:\n",
    "\n",
    "\n",
    "<ol>\n",
    "\n",
    "<li>Loop through the whole dataset rows.\n",
    "\n",
    "<ol>\n",
    "<li>Create tf.train.Example() object. This object will be responsible for passing our data to the model for prediction.</li>\n",
    "<li>Loop through all the columns and based on the datatype of the column add that column value to the example object using the appropriate type out of bytes_list, float_list, int64_list. More info about these types here: https://www.tensorflow.org/tutorials/load_data/tfrecord</li>\n",
    "<li>Predict using this example object and the imported model. Note that this example object will serve the same purpose as passing a single row to a sklearn model for prediction.</li>\n",
    "</ol>\n",
    "</li>\n",
    "</ol>\n",
    "\n",
    "Below is the implementation of the same."
   ]
  },
  {
   "cell_type": "code",
   "execution_count": 25,
   "metadata": {
    "colab": {},
    "colab_type": "code",
    "id": "MQVBBSyn9J1U"
   },
   "outputs": [],
   "source": [
    "# Deleting the label column from dfeval since we will be passing the \n",
    "# dataset itself instead of a function which does it for us.\n",
    "\n",
    "dfeval.drop(columns=[LABEL], inplace=True)"
   ]
  },
  {
   "cell_type": "code",
   "execution_count": 26,
   "metadata": {},
   "outputs": [
    {
     "data": {
      "text/html": [
       "<div>\n",
       "<style scoped>\n",
       "    .dataframe tbody tr th:only-of-type {\n",
       "        vertical-align: middle;\n",
       "    }\n",
       "\n",
       "    .dataframe tbody tr th {\n",
       "        vertical-align: top;\n",
       "    }\n",
       "\n",
       "    .dataframe thead th {\n",
       "        text-align: right;\n",
       "    }\n",
       "</style>\n",
       "<table border=\"1\" class=\"dataframe\">\n",
       "  <thead>\n",
       "    <tr style=\"text-align: right;\">\n",
       "      <th></th>\n",
       "      <th>survived</th>\n",
       "      <th>sex</th>\n",
       "      <th>age</th>\n",
       "      <th>n_siblings_spouses</th>\n",
       "      <th>parch</th>\n",
       "      <th>class</th>\n",
       "      <th>deck</th>\n",
       "      <th>embark_town</th>\n",
       "      <th>alone</th>\n",
       "    </tr>\n",
       "  </thead>\n",
       "  <tbody>\n",
       "    <tr>\n",
       "      <th>0</th>\n",
       "      <td>0</td>\n",
       "      <td>1</td>\n",
       "      <td>35.0</td>\n",
       "      <td>0</td>\n",
       "      <td>0</td>\n",
       "      <td>2</td>\n",
       "      <td>6</td>\n",
       "      <td>2</td>\n",
       "      <td>1</td>\n",
       "    </tr>\n",
       "    <tr>\n",
       "      <th>1</th>\n",
       "      <td>0</td>\n",
       "      <td>1</td>\n",
       "      <td>54.0</td>\n",
       "      <td>0</td>\n",
       "      <td>0</td>\n",
       "      <td>0</td>\n",
       "      <td>4</td>\n",
       "      <td>2</td>\n",
       "      <td>1</td>\n",
       "    </tr>\n",
       "    <tr>\n",
       "      <th>2</th>\n",
       "      <td>1</td>\n",
       "      <td>0</td>\n",
       "      <td>58.0</td>\n",
       "      <td>0</td>\n",
       "      <td>0</td>\n",
       "      <td>0</td>\n",
       "      <td>2</td>\n",
       "      <td>2</td>\n",
       "      <td>1</td>\n",
       "    </tr>\n",
       "    <tr>\n",
       "      <th>3</th>\n",
       "      <td>1</td>\n",
       "      <td>0</td>\n",
       "      <td>55.0</td>\n",
       "      <td>0</td>\n",
       "      <td>0</td>\n",
       "      <td>1</td>\n",
       "      <td>6</td>\n",
       "      <td>2</td>\n",
       "      <td>1</td>\n",
       "    </tr>\n",
       "    <tr>\n",
       "      <th>4</th>\n",
       "      <td>1</td>\n",
       "      <td>1</td>\n",
       "      <td>34.0</td>\n",
       "      <td>0</td>\n",
       "      <td>0</td>\n",
       "      <td>1</td>\n",
       "      <td>3</td>\n",
       "      <td>2</td>\n",
       "      <td>1</td>\n",
       "    </tr>\n",
       "  </tbody>\n",
       "</table>\n",
       "</div>"
      ],
      "text/plain": [
       "   survived  sex   age  n_siblings_spouses  parch  class  deck  embark_town  \\\n",
       "0         0    1  35.0                   0      0      2     6            2   \n",
       "1         0    1  54.0                   0      0      0     4            2   \n",
       "2         1    0  58.0                   0      0      0     2            2   \n",
       "3         1    0  55.0                   0      0      1     6            2   \n",
       "4         1    1  34.0                   0      0      1     3            2   \n",
       "\n",
       "   alone  \n",
       "0      1  \n",
       "1      1  \n",
       "2      1  \n",
       "3      1  \n",
       "4      1  "
      ]
     },
     "execution_count": 26,
     "metadata": {},
     "output_type": "execute_result"
    }
   ],
   "source": [
    "dfeval.head()"
   ]
  },
  {
   "cell_type": "code",
   "execution_count": 27,
   "metadata": {
    "colab": {},
    "colab_type": "code",
    "id": "z3oYws9t781q"
   },
   "outputs": [],
   "source": [
    "def predict(dfeval, importedModel):\n",
    "    colNames = dfeval.columns\n",
    "    dtypes = dfeval.dtypes\n",
    "    predictions = []\n",
    "    for row in dfeval.iterrows():\n",
    "        example = tf.train.Example()\n",
    "        for i in range(len(colNames)):\n",
    "            dtype = dtypes[i]\n",
    "            colName = colNames[i]\n",
    "            value = row[1][colName].astype(dtype)\n",
    "            if dtype == \"object\":\n",
    "                value = bytes(value, \"utf-8\")\n",
    "                example.features.feature[colName].bytes_list.value.extend(\n",
    "                    [value])\n",
    "            elif dtype == \"float\":\n",
    "                example.features.feature[colName].float_list.value.extend(\n",
    "                    [value])\n",
    "            elif dtype == \"int\":\n",
    "                example.features.feature[colName].int64_list.value.extend(\n",
    "                    [value])\n",
    "        # print (tf.constant([example.SerializeToString()]))\n",
    "                \n",
    "        predictions.append(\n",
    "            importedModel.signatures[\"predict\"](\n",
    "                examples=tf.constant([example.SerializeToString()])\n",
    "                )\n",
    "        )\n",
    "            \n",
    "    return predictions"
   ]
  },
  {
   "cell_type": "code",
   "execution_count": 28,
   "metadata": {},
   "outputs": [
    {
     "data": {
      "text/plain": [
       "10.168745"
      ]
     },
     "execution_count": 28,
     "metadata": {},
     "output_type": "execute_result"
    }
   ],
   "source": [
    "individual_ex = {\n",
    "    'survived': tf.constant([0], dtype=tf.int64),\n",
    "    'sex': tf.constant([1], dtype=tf.int64),\n",
    "    'age': tf.constant([35.1], dtype=tf.float32),\n",
    "    'n_siblings_spouses': tf.constant([0], dtype=tf.int64),\n",
    "    'parch': tf.constant([0], dtype=tf.int64),\n",
    "    'class': tf.constant([2], dtype=tf.int64),\n",
    "    'deck': tf.constant([6], dtype=tf.int64),\n",
    "    'embark_town': tf.constant([2], dtype=tf.int64),\n",
    "    'alone': tf.constant([1], dtype=tf.int64),\n",
    "}\n",
    "\n",
    "predict_fn = importedModel.signatures['predict']\n",
    "ps = predict_fn(**individual_ex)\n",
    "ps['predictions'].numpy()[0][0]"
   ]
  },
  {
   "cell_type": "code",
   "execution_count": null,
   "metadata": {},
   "outputs": [],
   "source": []
  }
 ],
 "metadata": {
  "colab": {
   "authorship_tag": "ABX9TyMZtEIu6PrJ8828G5ibGOJ6",
   "collapsed_sections": [],
   "include_colab_link": true,
   "name": "TFestimatorClassificationSaveLoad",
   "provenance": []
  },
  "kernelspec": {
   "display_name": "Python 3",
   "language": "python",
   "name": "python3"
  },
  "language_info": {
   "codemirror_mode": {
    "name": "ipython",
    "version": 3
   },
   "file_extension": ".py",
   "mimetype": "text/x-python",
   "name": "python",
   "nbconvert_exporter": "python",
   "pygments_lexer": "ipython3",
   "version": "3.7.9"
  }
 },
 "nbformat": 4,
 "nbformat_minor": 1
}
