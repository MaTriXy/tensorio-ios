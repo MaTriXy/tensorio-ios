{
 "cells": [
  {
   "cell_type": "code",
   "execution_count": 1,
   "metadata": {},
   "outputs": [],
   "source": [
    "import tensorflow as tf"
   ]
  },
  {
   "cell_type": "code",
   "execution_count": 2,
   "metadata": {},
   "outputs": [
    {
     "name": "stdout",
     "output_type": "stream",
     "text": [
      "INFO:tensorflow:Assets added to graph.\n",
      "INFO:tensorflow:No assets to write.\n",
      "INFO:tensorflow:SavedModel written to: ./saved_graph/saved_model.pb\n",
      "[array([25.], dtype=float32)]\n"
     ]
    }
   ],
   "source": [
    "x = tf.placeholder(tf.float32, shape=(1), name=\"input_x\")\n",
    "w = tf.Variable(10, dtype=tf.float32, name=\"w\")\n",
    "b = tf.Variable(5, dtype=tf.float32, name=\"b\")\n",
    "\n",
    "z = tf.add(tf.multiply(x, w), b, name=\"output_z\")\n",
    "\n",
    "init = tf.global_variables_initializer()\n",
    "saver = tf.train.Saver()\n",
    "\n",
    "with tf.Session() as sess:\n",
    "    sess.run(init)\n",
    "    z_eval = sess.run([z], feed_dict={x: [2]})\n",
    "    \n",
    "    tf.saved_model.simple_save(sess, \"./saved_graph\", inputs={\"input_x\": x}, outputs={\"output_z\": z})\n",
    "    \n",
    "    print(z_eval)"
   ]
  },
  {
   "cell_type": "markdown",
   "metadata": {},
   "source": [
    "## Freeze The Graph\n",
    "\n",
    "Having used the `tf.saved_model.simple_save` function, now use the `freeze_graph` cli. Tensorflow also provides a python interface to the freeze_graph function.\n",
    "\n",
    "On the command line:\n",
    "\n",
    "```bash\n",
    "mkdir frozen_graph\n",
    "\n",
    "freeze_graph \\\n",
    "    --input_saved_model_dir=saved_graph \\\n",
    "    --saved_model_tags=serve \\\n",
    "    --output_graph=frozen_graph/single_valued_frozen.pb \\\n",
    "    --output_node_names=output_z\n",
    "```"
   ]
  },
  {
   "cell_type": "markdown",
   "metadata": {},
   "source": [
    "## Convert the Model to a TensorFlow Lite Format\n",
    "\n",
    "Use the `toco` command line utility to convert the frozen graph to a tensorflow lite compatible file:\n",
    "\n",
    "```bash\n",
    "mkdir tflite\n",
    "\n",
    "toco \\\n",
    "\t--graph_def_file=frozen_graph/2x2_frozen.pb \\\n",
    "\t--output_file=tflite/2x2.tflite \\\n",
    "\t--input_arrays=input_x,input_y \\\n",
    "\t--input_shapes=1,4:1,4 \\\n",
    "\t--output_arrays=output_z,output_s\n",
    "```"
   ]
  },
  {
   "cell_type": "code",
   "execution_count": null,
   "metadata": {},
   "outputs": [],
   "source": []
  }
 ],
 "metadata": {
  "kernelspec": {
   "display_name": "Python 3",
   "language": "python",
   "name": "python3"
  },
  "language_info": {
   "codemirror_mode": {
    "name": "ipython",
    "version": 3
   },
   "file_extension": ".py",
   "mimetype": "text/x-python",
   "name": "python",
   "nbconvert_exporter": "python",
   "pygments_lexer": "ipython3",
   "version": "3.6.6"
  }
 },
 "nbformat": 4,
 "nbformat_minor": 2
}
