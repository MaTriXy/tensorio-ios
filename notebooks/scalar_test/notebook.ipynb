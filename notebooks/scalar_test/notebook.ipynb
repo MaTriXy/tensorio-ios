{
 "cells": [
  {
   "cell_type": "markdown",
   "metadata": {},
   "source": [
    "# Scalar test\n",
    "\n",
    "A single numeric value in and a single numeric value out but as a dimensionless scalar value."
   ]
  },
  {
   "cell_type": "markdown",
   "metadata": {},
   "source": [
    "## Build and save the graph\n",
    "\n",
    "Ensure you are working in a virtual environment with tensorflow >= 1.15 installed, and in the notebook's directory on the command line:\n",
    "\n",
    "```bash\n",
    "rm -r saved_graph\n",
    "```"
   ]
  },
  {
   "cell_type": "code",
   "execution_count": 1,
   "metadata": {},
   "outputs": [],
   "source": [
    "import tensorflow as tf"
   ]
  },
  {
   "cell_type": "code",
   "execution_count": 3,
   "metadata": {},
   "outputs": [
    {
     "name": "stdout",
     "output_type": "stream",
     "text": [
      "WARNING:tensorflow:From <ipython-input-3-cc8c0ea02e09>:14: simple_save (from tensorflow.python.saved_model.simple_save) is deprecated and will be removed in a future version.\n",
      "Instructions for updating:\n",
      "This function will only be available through the v1 compatibility library as tf.compat.v1.saved_model.simple_save.\n",
      "WARNING:tensorflow:From /Users/phildow/venvs/tf1.15/lib/python3.7/site-packages/tensorflow_core/python/saved_model/signature_def_utils_impl.py:201: build_tensor_info (from tensorflow.python.saved_model.utils_impl) is deprecated and will be removed in a future version.\n",
      "Instructions for updating:\n",
      "This function will only be available through the v1 compatibility library as tf.compat.v1.saved_model.utils.build_tensor_info or tf.compat.v1.saved_model.build_tensor_info.\n",
      "INFO:tensorflow:Assets added to graph.\n",
      "INFO:tensorflow:No assets to write.\n",
      "INFO:tensorflow:SavedModel written to: ./saved_graph/saved_model.pb\n",
      "[25.0]\n"
     ]
    }
   ],
   "source": [
    "x = tf.placeholder(tf.float32, shape=(), name=\"input\")\n",
    "w = tf.Variable(10, dtype=tf.float32, name=\"w\")\n",
    "b = tf.Variable(5, dtype=tf.float32, name=\"b\")\n",
    "\n",
    "z = tf.add(tf.multiply(x, w), b, name=\"output\")\n",
    "\n",
    "init = tf.global_variables_initializer()\n",
    "saver = tf.train.Saver()\n",
    "\n",
    "with tf.Session() as sess:\n",
    "    sess.run(init)\n",
    "    z_eval = sess.run([z], feed_dict={x: 2})\n",
    "    \n",
    "    tf.saved_model.simple_save(sess, \"./saved_graph\", inputs={\"input\": x}, outputs={\"output\": z})\n",
    "    \n",
    "    print(z_eval) # 25"
   ]
  },
  {
   "cell_type": "markdown",
   "metadata": {},
   "source": [
    "## Freeze the graph\n",
    "\n",
    "Having used the `tf.saved_model.simple_save` function, now use the `freeze_graph` cli. Tensorflow also provides a python interface to the freeze_graph function.\n",
    "\n",
    "On the command line:\n",
    "\n",
    "```bash\n",
    "mkdir frozen_graph\n",
    "\n",
    "freeze_graph \\\n",
    "    --input_saved_model_dir=saved_graph \\\n",
    "    --saved_model_tags=serve \\\n",
    "    --output_graph=frozen_graph/frozen_graph.pb \\\n",
    "    --output_node_names=output\n",
    "```\n",
    "\n",
    "## Convert the model to a tensorflow lite format\n",
    "\n",
    "Use the `toco` command line utility to convert the frozen graph to a tensorflow lite compatible file:\n",
    "\n",
    "```bash\n",
    "mkdir tflite\n",
    "\n",
    "toco \\\n",
    "\t--graph_def_file=frozen_graph/frozen_graph.pb \\\n",
    "\t--output_file=tflite/model.tflite \\\n",
    "\t--input_arrays=input \\\n",
    "\t--output_arrays=output\n",
    "```"
   ]
  },
  {
   "cell_type": "markdown",
   "metadata": {},
   "source": [
    "# Adding Quantization (Unused)"
   ]
  },
  {
   "cell_type": "code",
   "execution_count": null,
   "metadata": {},
   "outputs": [],
   "source": [
    "tf.reset_default_graph()\n",
    "\n"
   ]
  },
  {
   "cell_type": "markdown",
   "metadata": {},
   "source": [
    "## Quantize the model in a tflite format\n",
    "\n",
    "Use the `toco` command line utility to convert the frozen graph to a quantized tensorflow lite compatible file:\n",
    "\n",
    "```bash\n",
    "mkdir tflite\n",
    "\n",
    "toco \\\n",
    "\t--graph_def_file=frozen_graph/frozen_graph.pb \\\n",
    "\t--output_file=tflite/model.tflite \\\n",
    "\t--input_arrays=input_x \\\n",
    "\t--input_shapes=1 \\\n",
    "\t--output_arrays=output_z \\\n",
    "    --inference_type=QUANTIZED_UINT8 \\\n",
    "    --std_dev_values=127 \\\n",
    "    --mean_values=12 \n",
    "```"
   ]
  },
  {
   "cell_type": "code",
   "execution_count": null,
   "metadata": {},
   "outputs": [],
   "source": []
  }
 ],
 "metadata": {
  "kernelspec": {
   "display_name": "Python 3",
   "language": "python",
   "name": "python3"
  },
  "language_info": {
   "codemirror_mode": {
    "name": "ipython",
    "version": 3
   },
   "file_extension": ".py",
   "mimetype": "text/x-python",
   "name": "python",
   "nbconvert_exporter": "python",
   "pygments_lexer": "ipython3",
   "version": "3.7.9"
  }
 },
 "nbformat": 4,
 "nbformat_minor": 2
}
